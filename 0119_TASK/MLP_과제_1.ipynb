{
  "nbformat": 4,
  "nbformat_minor": 0,
  "metadata": {
    "colab": {
      "provenance": [],
      "toc_visible": true
    },
    "kernelspec": {
      "name": "python3",
      "display_name": "Python 3"
    },
    "language_info": {
      "name": "python"
    },
    "accelerator": "GPU",
    "gpuClass": "standard"
  },
  "cells": [
    {
      "cell_type": "code",
      "execution_count": null,
      "metadata": {
        "colab": {
          "base_uri": "https://localhost:8080/"
        },
        "id": "w75BJHj6qukF",
        "outputId": "fac255c9-5f44-42c4-a9f0-3859a8478e8e"
      },
      "outputs": [
        {
          "output_type": "stream",
          "name": "stdout",
          "text": [
            "Drive already mounted at /content/drive; to attempt to forcibly remount, call drive.mount(\"/content/drive\", force_remount=True).\n"
          ]
        }
      ],
      "source": [
        "from google.colab import drive\n",
        "drive.mount('/content/drive')"
      ]
    },
    {
      "cell_type": "markdown",
      "source": [
        "# Import pacakages\n",
        "---"
      ],
      "metadata": {
        "id": "KenFYB_0nvlO"
      }
    },
    {
      "cell_type": "code",
      "source": [
        "'''\n",
        "import modules\n",
        "  - Basic tool\n",
        "  - DL tool\n",
        "  - OS tool\n",
        "'''\n",
        "# Basic tools\n",
        "import numpy as np\n",
        "import pandas as pd\n",
        "import matplotlib.pyplot as plt\n",
        "\n",
        "# DL tools\n",
        "import torch \n",
        "import torch.nn as nn\n",
        "import torch.nn.functional as F\n",
        "from sklearn.model_selection import train_test_split\n",
        "import tensorflow as tf\n",
        "from tensorflow import keras\n",
        "from tensorflow.keras.utils import to_categorical\n",
        "\n",
        "# OS tool\n",
        "import os"
      ],
      "metadata": {
        "id": "sRTTu9VPiQ2f"
      },
      "execution_count": null,
      "outputs": []
    },
    {
      "cell_type": "markdown",
      "source": [
        "# Device Setting\n",
        "---"
      ],
      "metadata": {
        "id": "k4xKgk9Xosgh"
      }
    },
    {
      "cell_type": "code",
      "source": [
        "'''\n",
        "  Setting \n",
        "    - Path setting to the current directory\n",
        "    - GPU device setting (device: cuda)\n",
        "'''\n",
        "# Show all columns for the dataframe\n",
        "pd.set_option('display.max_columns', None)\n",
        "\n",
        "# Path\n",
        "my_PATH = \"/content/drive/MyDrive/와빅_교육세션\"\n",
        "os.chdir(my_PATH)\n",
        "# show file list in the current directory\n",
        "!dir\n",
        "\n",
        "'''\n",
        " (!!!!!!!!!!!!!!중요!!!!!!!!!!!!!!!!)\n",
        " GPU 설정을 해줘야 더 효율적인 학습이 가능합니다.\n",
        " \"device: cuda\"로 출력되면 Good!\n",
        " \"device: cpu\"일 경우 현재 코랩에서'런타임 → 런타임 유형 변경 → GPU' 설정을 해줍시다.\n",
        " 코랩이 기본제공하는 GPU는 하루 최대 12시간 사용 가능합니다. 런타임이 연결되는 동안 시간이 차감됩니다.\n",
        " 만약 코랩이 기본제공하는 GPU를 다 썼다면 약 하루를 기다리거나 다른 구글계정을 이용해야합니다. \n",
        "'''\n",
        "# Device setting & configuration\n",
        "# cuda가 available하면 cuda(GPU)로 아니면 CPU 연결\n",
        "if torch.cuda.is_available():\n",
        "    device = torch.device('cuda')\n",
        "else:\n",
        "    device = torch.device('cpu')\n",
        "\n",
        "print('device:', device)"
      ],
      "metadata": {
        "colab": {
          "base_uri": "https://localhost:8080/"
        },
        "id": "FhqicXF8oFDF",
        "outputId": "618a1c4f-1187-4d22-e263-aea8fd599f0b"
      },
      "execution_count": null,
      "outputs": [
        {
          "output_type": "stream",
          "name": "stdout",
          "text": [
            "airbnb_listings.csv\t       MNIST_MLP.ipynb\n",
            "assignment.csv\t\t       MNIST_MLP_과제.ipynb\n",
            "bike_train.csv\t\t       numpy_22기\\ 교육세션_실습\n",
            "CNN_과제.ipynb\t\t       pandas_22기\\ 교육세션_실습\n",
            "CNN_실습.ipynb\t\t       pandas_numpy_22기\\ 교육세션_과제_22기정병주\n",
            "EDA_FE\\ 과제_22기정병주.ipynb  players.csv\n",
            "EDA_FE\\ 과제.ipynb\t       Seaborn_(그래프모음).ipynb\n",
            "EDA_FE\\ 세션(EDA).ipynb        test.txt.gdoc\n",
            "EDA_FE\\ 세션(FE).ipynb\t       titanic.csv\n",
            "Google_Colaboratory.ipynb      train.csv\n",
            "ML_RMSLE.png\t\t       wine.csv\n",
            "ML_실습_및_과제.ipynb\t       통계기초_회귀분석_과제.ipynb\n",
            "device: cuda\n"
          ]
        }
      ]
    },
    {
      "cell_type": "markdown",
      "source": [
        "# Data Load\n",
        "---"
      ],
      "metadata": {
        "id": "Vek_Cdd6ocmE"
      }
    },
    {
      "cell_type": "code",
      "source": [
        "'''\n",
        "  Load MNIST Data\n",
        "    - Train & &Validation & Test data \n",
        "    - Image and Label\n",
        "    - Min-Max scaling\n",
        "'''\n",
        "# Loading the data\n",
        "(x_train, y_train), (x_test, y_test) = tf.keras.datasets.mnist.load_data()\n",
        "\n",
        "# Min-Max scaling\n",
        "x_train = x_train/255.0\n",
        "x_test = x_test/255.0\n",
        "\n",
        "'''\n",
        " train_test_split은 sklearn으로 import한 모듈입니다.\n",
        " train_test_split을 통해 쉽게 데이터를 분리할 수 있습니다.\n",
        " 이 코드는 train데이터를 0.8 : 0.2로 train과 validation 데이터로 분리하는 코드입니다,\n",
        " print 결과 Train 데이터는 28x28 사이즈의 이미지 데이터가 48,000장 있으며 이미지에 대응하는 label이 48,000개 존재함을 알 수 있습니다.  \n",
        "'''\n",
        "# Split train data into Train/Validation data\n",
        "x_train, x_val, y_train, y_val = train_test_split(x_train, y_train, test_size = 0.2, shuffle=True)\n",
        "\n",
        "# Check data shape\n",
        "print(f\"Train 데이터 크기: {x_train.shape, y_train.shape}\")\n",
        "print(f\"Validation 데이터 크기: {x_val.shape, y_val.shape}\")\n",
        "print(f\"Test 데이터 크기:{x_test.shape, y_test.shape}\")\n"
      ],
      "metadata": {
        "id": "kHTK06rSiY8V",
        "colab": {
          "base_uri": "https://localhost:8080/"
        },
        "outputId": "3b2a04ba-0845-44cf-80c2-8b2b07829231"
      },
      "execution_count": null,
      "outputs": [
        {
          "output_type": "stream",
          "name": "stdout",
          "text": [
            "Train 데이터 크기: ((48000, 28, 28), (48000,))\n",
            "Validation 데이터 크기: ((12000, 28, 28), (12000,))\n",
            "Test 데이터 크기:((10000, 28, 28), (10000,))\n"
          ]
        }
      ]
    },
    {
      "cell_type": "code",
      "source": [
        "# Check\n",
        "fig = plt.figure(figsize=(18,8))\n",
        "ax1 = fig.add_subplot(211)\n",
        "img1 = plt.imshow(x_train[0].reshape(28, 28)).set_cmap('Greys')\n",
        "ax2 = fig.add_subplot(222)\n",
        "img2 = plt.imshow(x_train[1].reshape(28, 28)).set_cmap('Greys')\n",
        "print(f\"첫번째 이미지 라벨: {y_train[0]} \")\n",
        "print(f\"두번째 이미지 라벨: {y_train[1]} \")"
      ],
      "metadata": {
        "id": "SgsWDp8DimYz",
        "colab": {
          "base_uri": "https://localhost:8080/",
          "height": 282
        },
        "outputId": "4d18a639-6f96-4ecb-c206-a10977690334"
      },
      "execution_count": null,
      "outputs": [
        {
          "output_type": "stream",
          "name": "stdout",
          "text": [
            "첫번째 이미지 라벨: 8 \n",
            "두번째 이미지 라벨: 1 \n"
          ]
        },
        {
          "output_type": "display_data",
          "data": {
            "text/plain": [
              "<Figure size 1296x576 with 2 Axes>"
            ],
            "image/png": "[encoded data removed]"
          },
          "metadata": {
            "needs_background": "light"
          }
        }
      ]
    },
    {
      "cell_type": "code",
      "source": [
        "'''\n",
        "  Data Preparation\n",
        "    - No augmentation\n",
        "    - Min-Max scaling (already done at the first)    \n",
        "    - Label(target) -> One hot encoding\n",
        "    \n",
        "    MyDataset은 현재 데이터 set에 다음 속성들을 부여합니다.\n",
        "    Pytorch의 DataLoader를 활용하기 위해 필요합니다.\n",
        "'''\n",
        "\n",
        "class Mydataset(torch.utils.data.Dataset):\n",
        "\n",
        "    # 데이터 전처리 \n",
        "    def __init__(self, dataX_np , dataY_np):\n",
        "        self.data_X = dataX_np.astype(np.float32)\n",
        "        self.data_Y = dataY_np.astype(np.float32) \n",
        "\n",
        "        print(f\"My_dataset __init__ received : {self.data_X.shape}, {self.data_Y.shape} \")\n",
        "\n",
        "    # 인덱스를 입력받아 인덱스에 알맞는 입출력 데이터를 Return\n",
        "    def __getitem__(self, index):\n",
        "        image = self.data_X[index]\n",
        "        label = self.data_Y[index]\n",
        "        # One hot encoding\n",
        "        # 0~9 숫자로 되어있는 라벨을 one hot encoding 형식으로 변환합니다. 이는 이후 MLP의 출력이 10차원이기에 Loss를 계산하기 위해 진행하였습니다.  \n",
        "        label = to_categorical(label, num_classes = 10)\n",
        "\n",
        "        return image, label\n",
        "    \n",
        "    # 총 데이터 개수를 Return\n",
        "    def __len__(self):\n",
        "        return len(self.data_X)"
      ],
      "metadata": {
        "id": "hYk7WJbiint1"
      },
      "execution_count": null,
      "outputs": []
    },
    {
      "cell_type": "code",
      "source": [
        "'''\n",
        " DataLoader는 데이터를 batch_size에 맞게 나눠주거나 shuffle해 주는 등의 기능을 지원합니다.\n",
        " DataLoader는 데이터를 index로 접근가능하도록 하고 for문에서 사용할 수 있는 iterable 객체로 감싸줍니다.\n",
        "\n",
        " batch_size 변수는 train 데이터의 batch 크기를 결정합니다.\n",
        " batch_size를 1로 할 경우 SGD가 되며 (모든 데이터의 배치크기가 1이므로 배치 = 하나의 데이터 이기 떄문입니다)\n",
        " batch_size를 현재 데이터의 수보다 같거나 크게 할 경우 BGD가 됩니다. (배치하나가 모든 데이터를 포함하기 때문입니다.)\n",
        " 현재 batch_size를 32로 설정하였기에 48000//32 = 1500. 1500개의 배치가 생성되며 배치 한개당 32개의 이미지데이터와 라벨데이터가 존재합니다.\n",
        " drop_last = False로 설정하여 배치로 나눴을 떄 32개가 채워지지 못하는 마지막 배치를 그대로 살리도록 하였습니다.\n",
        " \n",
        " train_loader의 경우 batch_size=32로 설정하여 Mini-batch Gradient Descent를 사용하도록 하였습니다. \n",
        " valid_lodaer와 test_loader의 batch_size를 데이터의 수보다 크게하여 모든 데이터에 대한 Loss와 Accuracy가 구해질 수 있도록 하였습니다.\n",
        "\n",
        " x_train, x_val, x_test 모두 (-1,28*28)로 reshape하였습니다. 즉, 28x28의 크기로 이뤄진 이미지 데이터를 28*28 = 784 차원의 벡터로 Flatten하였습니다. 이미지 데이터를 일자로 폈다고 생각하시면 됩니다.\n",
        " 따라서 MLP 모델에 입력되는 데이터는 784차원의 벡터입니다.\n",
        "'''\n",
        "\n",
        "batch_size = 32\n",
        "train_loader = torch.utils.data.DataLoader(Mydataset(x_train.reshape(-1,28*28), y_train), batch_size=batch_size, shuffle=False, drop_last = False)\n",
        "valid_loader = torch.utils.data.DataLoader(Mydataset(x_val.reshape(-1,28*28), y_val), batch_size = 1000000000, shuffle=False, drop_last = False)\n",
        "test_loader = torch.utils.data.DataLoader(Mydataset(x_test.reshape(-1,28*28), y_test), batch_size = 100000000, shuffle=False, drop_last = False)"
      ],
      "metadata": {
        "id": "D3eHRHz0ixFl",
        "colab": {
          "base_uri": "https://localhost:8080/"
        },
        "outputId": "1496eb2b-e1a9-4c79-88f4-66976a81c87c"
      },
      "execution_count": null,
      "outputs": [
        {
          "output_type": "stream",
          "name": "stdout",
          "text": [
            "My_dataset __init__ received : (48000, 784), (48000,) \n",
            "My_dataset __init__ received : (12000, 784), (12000,) \n",
            "My_dataset __init__ received : (10000, 784), (10000,) \n"
          ]
        }
      ]
    },
    {
      "cell_type": "markdown",
      "source": [
        "# MLP Model\n",
        "---"
      ],
      "metadata": {
        "id": "HbBLZjwNRs3a"
      }
    },
    {
      "cell_type": "code",
      "source": [
        "'''\n",
        "  MLP 모델을 정의하는 Class 입니다.\n",
        "\n",
        "  self.fc1 에서 fc1은 layer의 이름이며 fc1을 nn.Linear(input_dimension, output_dimension, bias=False)로 정의 할 수 있습니다.\n",
        "  즉 fc1은 784차원의 input을 wx+b의 Linear 함수를 적용하여 2048차원으로 보냅니다.(input 뉴련 784개, output 뉴런 2048개로 이뤄진 두 layer를 연결합니다.) \n",
        "  bias를 True로 설정할 경우 bias를 추가할 수 있습니다.\n",
        "\n",
        "'''\n",
        "class MLP_generalized(nn.Module):\n",
        "    def __init__(self):\n",
        "        super(MLP_generalized, self).__init__()\n",
        "        self.fc1 = nn.Linear(784, 512)\n",
        "        self.fc2 = nn.Linear(512, 256)\n",
        "        self.fc3 = nn.Linear(256, 10)\n",
        "\n",
        "    def forward(self, x):\n",
        "        x = self.fc1(x)\n",
        "        x = F.relu(x)\n",
        "        x = self.fc2(x)\n",
        "        x = F.relu(x) \n",
        "        x = self.fc3(x)\n",
        "        \n",
        "\n",
        "        # Pytorch에서는 Softmax가 CrossEntropy함수안에 내장되어있기에 없어도 됩니다. \n",
        "        # 이후 Loss를 CrossEntropy를 사용할 것이기에 제외하였습니다.\n",
        "        # x = F.log_softmax(x, dim=1)\n",
        "\n",
        "        return x"
      ],
      "metadata": {
        "id": "tejmvo34b_pC"
      },
      "execution_count": null,
      "outputs": []
    },
    {
      "cell_type": "markdown",
      "source": [
        "# Train\n",
        "---"
      ],
      "metadata": {
        "id": "RadXUxDNR4JZ"
      }
    },
    {
      "cell_type": "code",
      "source": [
        "from statistics import mean \n",
        "import time\n",
        "\n",
        "'''\n",
        " 모델의 학습을 정의하는 함수입니다.\n",
        " model, Lossfunction, Optimizer, Scheduler 등을 입력받습니다.\n",
        " 출력은 train, valdation, test의 loss 리스트로 하였습니다.\n",
        " train함수를 사용하면 입력받은 loss와 optimizer, lr scheduler, num_epoch에 따라 model을 학습시킵니다.\n",
        "'''\n",
        "\n",
        "def train(model, criterion_, optimizer_, scheduler_, num_epochs=40, first_epoch=1):\n",
        "    \n",
        "    train_losses = []\n",
        "    valid_losses = []\n",
        "    test_losses = []\n",
        "\n",
        "    print(\"----------------------------------------------------------------------------\")\n",
        "\n",
        "    start_time = time.time()\n",
        "    for epoch in range(first_epoch, first_epoch + num_epochs):\n",
        "        # train phase\n",
        "        model.train()\n",
        "        \n",
        "        # batch_loss \n",
        "        batch_losses = []\n",
        "\n",
        "        for images, labels in train_loader:\n",
        "            \n",
        "            # Move the training data to the GPU\n",
        "            images = images.to(device)   \n",
        "            labels = labels.to(device)\n",
        "\n",
        "            # clear previous gradient computation\n",
        "            optimizer_.zero_grad()\n",
        "\n",
        "            # forward propagation\n",
        "            outputs = model(images)\n",
        "\n",
        "            # calculate the loss\n",
        "            loss = criterion_.forward(outputs, labels)\n",
        "            batch_losses.append(loss.item())\n",
        "\n",
        "            # backpropagate to compute gradients\n",
        "            loss.backward()\n",
        "\n",
        "            # update model weights\n",
        "            optimizer_.step()\n",
        "\n",
        "        # Train loss를 저장합니다.\n",
        "        train_losses.append(mean(batch_losses))\n",
        "\n",
        "        # validation phase\n",
        "        # Dropout, BatchNormalization과 같은 layer가 동작하지 않도록 합니다.\n",
        "        model.eval()\n",
        "\n",
        "        # We don't need gradients for test, so wrap in \n",
        "        # no_grad to save memory\n",
        "        # 기울기 Gradient를 계산하지 않으며 backpropagation을 하지 않습니다. \n",
        "        with torch.no_grad():\n",
        "            \n",
        "            correct_test = 0\n",
        "\n",
        "            for images, labels in valid_loader:\n",
        "\n",
        "                # Move the training batch to the GPU\n",
        "                images = images.to(device)\n",
        "                labels = labels.to(device)\n",
        "\n",
        "                # forward propagation\n",
        "                outputs = model(images)\n",
        "\n",
        "                # calculate the loss\n",
        "                loss = criterion_(outputs, labels)\n",
        "                valid_losses.append(loss.item())\n",
        "\n",
        "            for images, labels in test_loader:\n",
        "                # Move the training batch to the GPU\n",
        "                images = images.to(device)\n",
        "                labels = labels.to(device)\n",
        "\n",
        "                # forward propagation\n",
        "                outputs = model(images)\n",
        "\n",
        "                # calculate the loss\n",
        "                loss = criterion_(outputs, labels)\n",
        "                test_losses.append(loss.item())\n",
        "\n",
        "                # Check Accuracy\n",
        "                # preds 는 output 중에서 가장 높은 값의 index를 가집니다. \n",
        "                _, preds = torch.max(outputs, 1)\n",
        "\n",
        "                # label이 현재 one hot encoding 형태로 되어있기에 preds를 index로 받아 1인지 확인합니다. \n",
        "                # ex) 숫자 2 : label = [0,0,1,0,0,...,0] , label[i][preds] == 1 -> 정답\n",
        "                for i in range(len(preds)):\n",
        "                  if labels[i][preds[i]] == 1:\n",
        "                    correct_test +=1\n",
        "        \n",
        "        # 원하는 Epoch마다 결과 출력 \n",
        "        if (epoch) % 1== 0 :\n",
        "            curr_time = round(time.time()-start_time)\n",
        "            train_rec = round(train_losses[-1],5)\n",
        "            valid_rec = round(valid_losses[-1],5)\n",
        "            test_rec = round(test_losses[-1],5)\n",
        "            test_acc = round(100*(correct_test)/len(labels),3)\n",
        "            print('Epoch', epoch, ' / ',num_epochs)\n",
        "            print(f\"\\t [Train loss : {train_rec}]  [Validation loss : {valid_rec}] [Test loss : {test_rec}], [Test Accuracy : {test_acc}%],[curr LR = {scheduler_.get_last_lr()}],[elapsed_time = {curr_time}sec] \")\n",
        "\n",
        "        # Learning rate Scheduling\n",
        "        # Scheduler에 따라 learning rate를 조절합니다. \n",
        "        scheduler_.step()\n",
        "        \n",
        "      \n",
        "    print(f\"\\nTrain Ended, total_elapsed_time = {round(time.time()-start_time)} \")\n",
        "    print(\"--------------------------------------------------------------------\")\n",
        "    \n",
        "    # Loss 값 반환\n",
        "    return train_losses, valid_losses, test_losses"
      ],
      "metadata": {
        "id": "ZgoDO9pgk0eu"
      },
      "execution_count": null,
      "outputs": []
    },
    {
      "cell_type": "markdown",
      "source": [
        "## Setting"
      ],
      "metadata": {
        "id": "Vn80AsOCYGMe"
      }
    },
    {
      "cell_type": "code",
      "source": [
        "# Moodel Setting \n",
        "model = MLP_generalized()\n",
        "model.to(device)\n",
        "\n",
        "# Optimizer\n",
        "# Optimzer와 Learning rate를 설정해줍니다.\n",
        "optimizer = torch.optim.Adam(model.parameters(), lr=0.001)\n",
        "\n",
        "# Loss Function\n",
        "criterion = nn.CrossEntropyLoss()\n",
        "\n",
        "# Learning rate scheduler\n",
        "# epoch가 10번 돌때마다 learning rate를 gamma만큼 곱해 사용합니다. ex) 0.01 -> 0.005\n",
        "scheduler = torch.optim.lr_scheduler.StepLR(optimizer, step_size=10, gamma=0.5)"
      ],
      "metadata": {
        "id": "pQDPg6fsdBGb"
      },
      "execution_count": null,
      "outputs": []
    },
    {
      "cell_type": "markdown",
      "source": [
        "## Training"
      ],
      "metadata": {
        "id": "7CZOAkyaYMx8"
      }
    },
    {
      "cell_type": "markdown",
      "source": [
        "### Overfitting"
      ],
      "metadata": {
        "id": "cgn_VREkgxX-"
      }
    },
    {
      "cell_type": "markdown",
      "source": [
        "### Underfitting"
      ],
      "metadata": {
        "id": "kbpOwHRPg1Qd"
      }
    },
    {
      "cell_type": "markdown",
      "source": [
        "# Plot Result\n",
        "---"
      ],
      "metadata": {
        "id": "Cs8DOtIaX7_K"
      }
    },
    {
      "cell_type": "code",
      "source": [
        "def plot_result(train_loss, val_loss, test_loss):\n",
        "  plt.figure(figsize=(20,8))\n",
        "  plt.plot(train_loss, label='Train Loss', linewidth='3')\n",
        "  plt.plot(val_loss, label='Validation Loss', linewidth='3')\n",
        "  plt.plot(test_loss, label='Test Loss', linewidth='3')\n",
        "  plt.grid()\n",
        "  plt.rc('xtick', labelsize=12)\n",
        "  plt.rc('ytick', labelsize=12)  \n",
        "  plt.legend()\n",
        "  plt.rc('legend', fontsize=15)  \n",
        "  plt.xlabel('Number of Eopch')\n",
        "  plt.ylabel('Cross Entropy Loss')\n",
        "  plt.rc('axes', labelsize=17)  \n"
      ],
      "metadata": {
        "id": "dzQ0Fcek5lRt"
      },
      "execution_count": null,
      "outputs": []
    },
    {
      "cell_type": "markdown",
      "source": [
        "#### Overfitting graph"
      ],
      "metadata": {
        "id": "IFOGXZ5qhE3V"
      }
    },
    {
      "cell_type": "markdown",
      "source": [
        "#### Underfitting graph"
      ],
      "metadata": {
        "id": "M_GD04ZWkT0j"
      }
    },
    {
      "cell_type": "markdown",
      "source": [
        "# Model Save & Load (참고용)\n",
        "---"
      ],
      "metadata": {
        "id": "da9VvapHfnqd"
      }
    },
    {
      "cell_type": "code",
      "source": [
        "''' \n",
        "  Modle Save & Load\n",
        "'''\n",
        "def save_model_info(model,model_name=\"ver_1\", train_losses=train_losses, valid_losses=valid_losses, test_losses=test_losses):\n",
        "\n",
        "    if not os.path.isdir(\"./models\"):\n",
        "        os.makedirs(\"./models\")\n",
        "    # 모델 정보 저장\n",
        "    torch.save({'model_state_dict': model.state_dict(),\n",
        "                'record_list' : [train_losses, valid_losses, test_losses]\n",
        "                }, f\"./models/model_{model_name}.pth\") \n",
        "\n",
        "    print(f\"model_saved : model_{model_name}\")\n",
        "\n",
        "\n",
        "def load_model_info(model_name=\"ver_1\"):\n",
        "\n",
        "    file_path = f\"./models/model_{model_name}.pth\"\n",
        "\n",
        "\n",
        "    if not os.path.exists(file_path):\n",
        "        print(\"FATAL ERROR : model path not exist\")\n",
        "    model_info = torch.load(file_path)\n",
        "    print(f\"model_loaded : model_{model_name}\")\n",
        "\n",
        "    model = MLP_underfit()\n",
        "    model.load_state_dict(model_info['model_state_dict'])\n",
        "    model.to(device)\n",
        "    model.eval()\n",
        "\n",
        "    return model"
      ],
      "metadata": {
        "id": "ZNRX1MEI7U2u"
      },
      "execution_count": null,
      "outputs": []
    },
    {
      "cell_type": "code",
      "source": [
        "save_model_info(model, \"underfit\", train_losses, valid_losses, test_losses)"
      ],
      "metadata": {
        "colab": {
          "base_uri": "https://localhost:8080/"
        },
        "id": "gwiuK0pN7hZw",
        "outputId": "2228e67a-1cd4-454b-9e21-f55d4232d601"
      },
      "execution_count": null,
      "outputs": [
        {
          "output_type": "stream",
          "name": "stdout",
          "text": [
            "model_saved : model_underfit\n"
          ]
        }
      ]
    },
    {
      "cell_type": "code",
      "source": [
        "model = load_model_info(\"underfit\")"
      ],
      "metadata": {
        "colab": {
          "base_uri": "https://localhost:8080/"
        },
        "id": "j7ZeExgqh5ud",
        "outputId": "55ab134e-3608-4478-99d9-0cb20dc19677"
      },
      "execution_count": null,
      "outputs": [
        {
          "output_type": "stream",
          "name": "stdout",
          "text": [
            "model_loaded : model_underfit\n"
          ]
        }
      ]
    },
    {
      "cell_type": "markdown",
      "source": [
        "# Generalized MLP"
      ],
      "metadata": {
        "id": "OpyjRjw4HYPH"
      }
    },
    {
      "cell_type": "code",
      "source": [
        "train_losses, valid_losses, test_losses = train(model, criterion_ = criterion, optimizer_ = optimizer, scheduler_ = scheduler, num_epochs=40)"
      ],
      "metadata": {
        "colab": {
          "base_uri": "https://localhost:8080/"
        },
        "id": "aTMU-f2YlTjQ",
        "outputId": "2be801b4-50d2-4284-cdd8-4cb860aa26b9"
      },
      "execution_count": null,
      "outputs": [
        {
          "output_type": "stream",
          "name": "stdout",
          "text": [
            "----------------------------------------------------------------------------\n",
            "Epoch 1  /  40\n",
            "\t [Train loss : 0.23619]  [Validation loss : 0.11996] [Test loss : 0.11332], [Test Accuracy : 96.46%],[curr LR = [0.001]],[elapsed_time = 27sec] \n",
            "Epoch 2  /  40\n",
            "\t [Train loss : 0.08926]  [Validation loss : 0.09958] [Test loss : 0.09909], [Test Accuracy : 96.96%],[curr LR = [0.001]],[elapsed_time = 44sec] \n",
            "Epoch 3  /  40\n",
            "\t [Train loss : 0.05603]  [Validation loss : 0.09325] [Test loss : 0.08838], [Test Accuracy : 97.36%],[curr LR = [0.001]],[elapsed_time = 61sec] \n",
            "Epoch 4  /  40\n",
            "\t [Train loss : 0.04321]  [Validation loss : 0.11527] [Test loss : 0.11152], [Test Accuracy : 97.04%],[curr LR = [0.001]],[elapsed_time = 81sec] \n",
            "Epoch 5  /  40\n",
            "\t [Train loss : 0.03165]  [Validation loss : 0.0987] [Test loss : 0.09068], [Test Accuracy : 97.75%],[curr LR = [0.001]],[elapsed_time = 93sec] \n",
            "Epoch 6  /  40\n",
            "\t [Train loss : 0.02847]  [Validation loss : 0.108] [Test loss : 0.10509], [Test Accuracy : 97.61%],[curr LR = [0.001]],[elapsed_time = 109sec] \n",
            "Epoch 7  /  40\n",
            "\t [Train loss : 0.02298]  [Validation loss : 0.10209] [Test loss : 0.08854], [Test Accuracy : 97.95%],[curr LR = [0.001]],[elapsed_time = 129sec] \n",
            "Epoch 8  /  40\n",
            "\t [Train loss : 0.02245]  [Validation loss : 0.09776] [Test loss : 0.08102], [Test Accuracy : 98.24%],[curr LR = [0.001]],[elapsed_time = 148sec] \n",
            "Epoch 9  /  40\n",
            "\t [Train loss : 0.01799]  [Validation loss : 0.12419] [Test loss : 0.11095], [Test Accuracy : 97.94%],[curr LR = [0.001]],[elapsed_time = 163sec] \n",
            "Epoch 10  /  40\n",
            "\t [Train loss : 0.01819]  [Validation loss : 0.10582] [Test loss : 0.09979], [Test Accuracy : 98.04%],[curr LR = [0.001]],[elapsed_time = 176sec] \n",
            "Epoch 11  /  40\n",
            "\t [Train loss : 0.00617]  [Validation loss : 0.08933] [Test loss : 0.08425], [Test Accuracy : 98.32%],[curr LR = [0.0005]],[elapsed_time = 191sec] \n",
            "Epoch 12  /  40\n",
            "\t [Train loss : 0.00202]  [Validation loss : 0.09632] [Test loss : 0.09247], [Test Accuracy : 98.33%],[curr LR = [0.0005]],[elapsed_time = 209sec] \n",
            "Epoch 13  /  40\n",
            "\t [Train loss : 0.00131]  [Validation loss : 0.10579] [Test loss : 0.10574], [Test Accuracy : 98.46%],[curr LR = [0.0005]],[elapsed_time = 227sec] \n",
            "Epoch 14  /  40\n",
            "\t [Train loss : 0.00585]  [Validation loss : 0.12492] [Test loss : 0.11463], [Test Accuracy : 98.21%],[curr LR = [0.0005]],[elapsed_time = 243sec] \n",
            "Epoch 15  /  40\n",
            "\t [Train loss : 0.00372]  [Validation loss : 0.11295] [Test loss : 0.10906], [Test Accuracy : 98.36%],[curr LR = [0.0005]],[elapsed_time = 263sec] \n",
            "Epoch 16  /  40\n",
            "\t [Train loss : 0.00327]  [Validation loss : 0.11652] [Test loss : 0.11398], [Test Accuracy : 98.33%],[curr LR = [0.0005]],[elapsed_time = 282sec] \n",
            "Epoch 17  /  40\n",
            "\t [Train loss : 0.00244]  [Validation loss : 0.13732] [Test loss : 0.13275], [Test Accuracy : 98.15%],[curr LR = [0.0005]],[elapsed_time = 301sec] \n",
            "Epoch 18  /  40\n",
            "\t [Train loss : 0.00287]  [Validation loss : 0.11926] [Test loss : 0.12388], [Test Accuracy : 98.31%],[curr LR = [0.0005]],[elapsed_time = 317sec] \n",
            "Epoch 19  /  40\n",
            "\t [Train loss : 0.00324]  [Validation loss : 0.128] [Test loss : 0.14837], [Test Accuracy : 98.11%],[curr LR = [0.0005]],[elapsed_time = 333sec] \n",
            "Epoch 20  /  40\n",
            "\t [Train loss : 0.00387]  [Validation loss : 0.11708] [Test loss : 0.12435], [Test Accuracy : 98.25%],[curr LR = [0.0005]],[elapsed_time = 356sec] \n",
            "Epoch 21  /  40\n",
            "\t [Train loss : 0.00073]  [Validation loss : 0.11277] [Test loss : 0.12534], [Test Accuracy : 98.33%],[curr LR = [0.00025]],[elapsed_time = 371sec] \n",
            "Epoch 22  /  40\n",
            "\t [Train loss : 0.00011]  [Validation loss : 0.11085] [Test loss : 0.12442], [Test Accuracy : 98.46%],[curr LR = [0.00025]],[elapsed_time = 388sec] \n",
            "Epoch 23  /  40\n",
            "\t [Train loss : 2e-05]  [Validation loss : 0.11154] [Test loss : 0.12524], [Test Accuracy : 98.44%],[curr LR = [0.00025]],[elapsed_time = 410sec] \n",
            "Epoch 24  /  40\n",
            "\t [Train loss : 1e-05]  [Validation loss : 0.11321] [Test loss : 0.12719], [Test Accuracy : 98.47%],[curr LR = [0.00025]],[elapsed_time = 426sec] \n",
            "Epoch 25  /  40\n",
            "\t [Train loss : 1e-05]  [Validation loss : 0.11555] [Test loss : 0.12962], [Test Accuracy : 98.47%],[curr LR = [0.00025]],[elapsed_time = 443sec] \n",
            "Epoch 26  /  40\n",
            "\t [Train loss : 0.0]  [Validation loss : 0.11899] [Test loss : 0.13271], [Test Accuracy : 98.5%],[curr LR = [0.00025]],[elapsed_time = 459sec] \n",
            "Epoch 27  /  40\n",
            "\t [Train loss : 0.0]  [Validation loss : 0.12367] [Test loss : 0.13626], [Test Accuracy : 98.52%],[curr LR = [0.00025]],[elapsed_time = 478sec] \n",
            "Epoch 28  /  40\n",
            "\t [Train loss : 0.0]  [Validation loss : 0.12894] [Test loss : 0.14121], [Test Accuracy : 98.51%],[curr LR = [0.00025]],[elapsed_time = 498sec] \n",
            "Epoch 29  /  40\n",
            "\t [Train loss : 0.0]  [Validation loss : 0.13388] [Test loss : 0.14539], [Test Accuracy : 98.49%],[curr LR = [0.00025]],[elapsed_time = 515sec] \n",
            "Epoch 30  /  40\n",
            "\t [Train loss : 9e-05]  [Validation loss : 0.1692] [Test loss : 0.17217], [Test Accuracy : 98.43%],[curr LR = [0.00025]],[elapsed_time = 532sec] \n",
            "Epoch 31  /  40\n",
            "\t [Train loss : 0.00016]  [Validation loss : 0.1522] [Test loss : 0.16039], [Test Accuracy : 98.53%],[curr LR = [0.000125]],[elapsed_time = 551sec] \n",
            "Epoch 32  /  40\n",
            "\t [Train loss : 0.0]  [Validation loss : 0.14911] [Test loss : 0.16004], [Test Accuracy : 98.59%],[curr LR = [0.000125]],[elapsed_time = 567sec] \n",
            "Epoch 33  /  40\n",
            "\t [Train loss : 0.0]  [Validation loss : 0.14918] [Test loss : 0.1602], [Test Accuracy : 98.56%],[curr LR = [0.000125]],[elapsed_time = 586sec] \n",
            "Epoch 34  /  40\n",
            "\t [Train loss : 0.0]  [Validation loss : 0.14961] [Test loss : 0.1609], [Test Accuracy : 98.55%],[curr LR = [0.000125]],[elapsed_time = 603sec] \n",
            "Epoch 35  /  40\n",
            "\t [Train loss : 0.0]  [Validation loss : 0.15045] [Test loss : 0.16202], [Test Accuracy : 98.55%],[curr LR = [0.000125]],[elapsed_time = 622sec] \n",
            "Epoch 36  /  40\n",
            "\t [Train loss : 0.0]  [Validation loss : 0.1518] [Test loss : 0.16365], [Test Accuracy : 98.54%],[curr LR = [0.000125]],[elapsed_time = 638sec] \n",
            "Epoch 37  /  40\n",
            "\t [Train loss : 0.0]  [Validation loss : 0.15363] [Test loss : 0.16559], [Test Accuracy : 98.53%],[curr LR = [0.000125]],[elapsed_time = 656sec] \n",
            "Epoch 38  /  40\n",
            "\t [Train loss : 0.0]  [Validation loss : 0.15583] [Test loss : 0.16768], [Test Accuracy : 98.54%],[curr LR = [0.000125]],[elapsed_time = 677sec] \n",
            "Epoch 39  /  40\n",
            "\t [Train loss : 0.0]  [Validation loss : 0.15834] [Test loss : 0.17001], [Test Accuracy : 98.52%],[curr LR = [0.000125]],[elapsed_time = 695sec] \n",
            "Epoch 40  /  40\n",
            "\t [Train loss : 0.0]  [Validation loss : 0.16075] [Test loss : 0.17241], [Test Accuracy : 98.52%],[curr LR = [0.000125]],[elapsed_time = 713sec] \n",
            "\n",
            "Train Ended, total_elapsed_time = 713 \n",
            "--------------------------------------------------------------------\n"
          ]
        }
      ]
    },
    {
      "cell_type": "code",
      "source": [
        "plot_result(train_losses, valid_losses, test_losses )"
      ],
      "metadata": {
        "colab": {
          "base_uri": "https://localhost:8080/",
          "height": 497
        },
        "id": "vFouvm_b5l7E",
        "outputId": "6af647fc-eb87-46ae-88b1-de17fd16bebf"
      },
      "execution_count": null,
      "outputs": [
        {
          "output_type": "display_data",
          "data": {
            "text/plain": [
              "<Figure size 1440x576 with 1 Axes>"
            ],
            "image/png": "[encoded data removed]"
          },
          "metadata": {
            "needs_background": "light"
          }
        }
      ]
    }
  ]
}